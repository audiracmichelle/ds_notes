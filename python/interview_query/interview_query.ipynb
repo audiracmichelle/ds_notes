{
 "nbformat": 4,
 "nbformat_minor": 2,
 "metadata": {
  "language_info": {
   "name": "python",
   "codemirror_mode": {
    "name": "ipython",
    "version": 3
   },
   "version": "3.7.3-final"
  },
  "orig_nbformat": 2,
  "file_extension": ".py",
  "mimetype": "text/x-python",
  "name": "python",
  "npconvert_exporter": "python",
  "pygments_lexer": "ipython3",
  "version": 3,
  "kernelspec": {
   "name": "python37364bitenvvenvf5213e31a71c46a591ed6d581acbc7d0",
   "display_name": "Python 3.7.3 64-bit ('env': venv)"
  }
 },
 "cells": [
  {
   "cell_type": "markdown",
   "metadata": {},
   "source": [
    "# interview_query"
   ],
   "execution_count": null,
   "outputs": []
  },
  {
   "cell_type": "markdown",
   "metadata": {},
   "source": [
    "## Cheet Sheat\n",
    "\n",
    "+ `elif`\n",
    "+ `for i, x enumerate()`\n",
    "+ `in`, `not in`\n",
    "\n",
    "iterable functions\n",
    "  + `sum(iterable)`\n",
    "\n",
    "initialize a string `s = \"string\"`\n",
    "  + `s.split()`\n",
    "  + `s.strip()`\n",
    "  + `s.lower()`\n",
    "  + `' '.join(string_list)`\n",
    "\n",
    "initialize a list object `l = list()`\n",
    "  + `l.append()`\n",
    "  + `l.sort(key = , reverse = )`\n",
    "  + `l.remove()` remove item by value\n",
    "  + `l.pop()` remove item by index\n",
    "\n",
    "initialize a set `s = set(list)`\n",
    "  + `s.add(element)`\n",
    "  + `s.intersect(second_set)`\n",
    "\n",
    "initialize a dictionary `d = dict()`\n",
    "  + join two dictionaries `d = update(second_dict)` \n",
    "\n",
    "### datetime\n",
    "\n",
    "`import datetime as dt` \n",
    "\n",
    "initialize a datetime object `date = dt.datetime(year, month, day)` \n",
    "\n",
    "initialize a datetime object from a string `date = dt.datetime.strptime(string, '%Y-%m-%d')` \n",
    "\n",
    "initialize a timedelta object `d = dt.timedelta(int)` \n",
    "  + extract int from timedelta object `d.days` \n",
    "\n",
    "### regex\n",
    "\n",
    "`import re`\n",
    "\n",
    "  + remove special characters except space from paragraph `re.sub('[^A-Za-z0-9 ]+', '', paragraph)`\n",
    "\n",
    "```\n",
    "final = [re.sub(r\"[^a-zA-Z0-9]+\", ' ', k) for k in paragraph.split(\"\\n\")]\n",
    "print(final)\n",
    "```\n",
    "\n",
    "### with \n",
    "\n",
    "`with` statement [https://www.geeksforgeeks.org/with-statement-in-python/](https://www.geeksforgeeks.org/with-statement-in-python/)\n",
    "\n",
    "```\n",
    "count = 0 \n",
    "with open(\"log.txt\") as infile:\n",
    "    for line in infile:\n",
    "        count += 1\n",
    "````\n"
   ],
   "execution_count": null,
   "outputs": []
  },
  {
   "cell_type": "markdown",
   "metadata": {},
   "source": [
    "## Exercise 1\n",
    "\n",
    "![](./exercise_1.png)"
   ],
   "execution_count": null,
   "outputs": []
  },
  {
   "cell_type": "code",
   "execution_count": 5,
   "metadata": {},
   "outputs": [],
   "source": [
    "import datetime as dt\n",
    "\n",
    "ts = [\n",
    "    '2019-01-01', \n",
    "    '2019-01-02', \n",
    "    '2019-01-08',\n",
    "    '2019-02-01',\n",
    "    '2019-02-02',\n",
    "    '2019-02-05'\n",
    "]\n",
    "ts = [dt.datetime.strptime(x, '%Y-%m-%d') for x in ts]"
   ]
  },
  {
   "cell_type": "code",
   "execution_count": 6,
   "metadata": {},
   "outputs": [
    {
     "output_type": "execute_result",
     "data": {
      "text/plain": "5"
     },
     "metadata": {},
     "execution_count": 6
    }
   ],
   "source": [
    "n_weeks = (ts[len(ts) - 1] - ts[0]) / 7\n",
    "#n_weeks.__dir__() para conocer los metodos asociados a una clase\n",
    "n_weeks.days"
   ]
  },
  {
   "cell_type": "code",
   "execution_count": 7,
   "metadata": {},
   "outputs": [
    {
     "output_type": "execute_result",
     "data": {
      "text/plain": "[[datetime.datetime(2019, 1, 1, 0, 0), datetime.datetime(2019, 1, 2, 0, 0)],\n [datetime.datetime(2019, 1, 8, 0, 0)],\n [datetime.datetime(2019, 2, 1, 0, 0), datetime.datetime(2019, 2, 2, 0, 0)]]"
     },
     "metadata": {},
     "execution_count": 7
    }
   ],
   "source": [
    "i = 0\n",
    "week_list = list()\n",
    "week_idx = 0\n",
    "week = list()\n",
    "while i < len(ts):\n",
    "    if ts[i] < (ts[0] + dt.timedelta(7) * (week_idx + 1)):\n",
    "        week.append(ts[i])\n",
    "        i += 1\n",
    "    else:\n",
    "        if len(week) > 0:\n",
    "            week_list.append(week)\n",
    "        week_idx += 1\n",
    "        week = list()\n",
    "week_list #hay un error, hay que corregir"
   ]
  },
  {
   "cell_type": "markdown",
   "metadata": {},
   "source": [
    "## Exercise 2\n",
    "\n",
    "![](./exercise_2.png)"
   ],
   "execution_count": null,
   "outputs": []
  },
  {
   "cell_type": "code",
   "execution_count": 8,
   "metadata": {},
   "outputs": [
    {
     "output_type": "execute_result",
     "data": {
      "text/plain": "['hola', 'mauricio']"
     },
     "metadata": {},
     "execution_count": 8
    }
   ],
   "source": [
    "\"hola mauricio\".split()"
   ]
  },
  {
   "cell_type": "code",
   "execution_count": 9,
   "metadata": {},
   "outputs": [
    {
     "output_type": "execute_result",
     "data": {
      "text/plain": "[('michelle', 'y'),\n ('michelle', 'mauricio'),\n ('michelle', 'forever'),\n ('michelle', 'in'),\n ('michelle', 'quarentine'),\n ('y', 'mauricio'),\n ('y', 'forever'),\n ('y', 'in'),\n ('y', 'quarentine'),\n ('mauricio', 'forever'),\n ('mauricio', 'in'),\n ('mauricio', 'quarentine'),\n ('forever', 'in'),\n ('forever', 'quarentine'),\n ('in', 'quarentine')]"
     },
     "metadata": {},
     "execution_count": 9
    }
   ],
   "source": [
    "def bigram(sentence):\n",
    "    words = sentence.split()\n",
    "    bigram_list = list()\n",
    "    for i in range(len(words)):\n",
    "        for j in range(i+1, len(words)):\n",
    "            bigram_list.append((words[i], words[j]))\n",
    "    return bigram_list\n",
    "\n",
    "bigram(\"michelle y mauricio forever in quarentine\")"
   ]
  },
  {
   "cell_type": "code",
   "execution_count": 10,
   "metadata": {},
   "outputs": [
    {
     "output_type": "execute_result",
     "data": {
      "text/plain": "[('michelle', 'y'),\n ('y', 'mauricio'),\n ('mauricio', 'forever'),\n ('forever', 'in'),\n ('in', 'quarentine')]"
     },
     "metadata": {},
     "execution_count": 10
    }
   ],
   "source": [
    "def bigram(sentence):\n",
    "    words = sentence.split()\n",
    "    bigram_list = list()\n",
    "    for i in range(len(words) - 1):\n",
    "        bigram_list.append((words[i], words[i + 1]))\n",
    "    return bigram_list\n",
    "\n",
    "bigram(\"michelle y mauricio forever in quarentine\")"
   ]
  },
  {
   "cell_type": "markdown",
   "metadata": {},
   "source": [
    "## Exercise 3\n",
    "\n",
    "![](./exercise_3.png)"
   ],
   "execution_count": null,
   "outputs": []
  },
  {
   "cell_type": "code",
   "execution_count": 11,
   "metadata": {},
   "outputs": [
    {
     "output_type": "execute_result",
     "data": {
      "text/plain": "'Mauricio takes care garden take care Mauricio '"
     },
     "metadata": {},
     "execution_count": 11
    }
   ],
   "source": [
    "def remove_stop_words(sentence, stopword_list):\n",
    "    clean_sentence = \"\"\n",
    "    for i, word in enumerate(sentence.split()):\n",
    "        if len(set(stopword_list).intersection(set([word]))) == 0:\n",
    "            clean_sentence += word + ' '\n",
    "    return clean_sentence\n",
    "\n",
    "remove_stop_words(\"Mauricio takes care of the garden and I take care of Mauricio\", ['of', 'the', 'and', 'I'])"
   ]
  },
  {
   "cell_type": "code",
   "execution_count": 12,
   "metadata": {},
   "outputs": [
    {
     "output_type": "execute_result",
     "data": {
      "text/plain": "'Mauricio takes care garden take care Mauricio '"
     },
     "metadata": {},
     "execution_count": 12
    }
   ],
   "source": [
    "def remove_stop_words(sentence, stopword_list):\n",
    "    clean_sentence = \"\"\n",
    "    stopwords = set(stopword_list)\n",
    "    for i, word in enumerate(sentence.split()):\n",
    "        if word not in stopwords:\n",
    "            clean_sentence += word + ' '\n",
    "    return clean_sentence\n",
    "\n",
    "remove_stop_words(\"Mauricio takes care of the garden and I take care of Mauricio\", ['of', 'the', 'and', 'I'])"
   ]
  },
  {
   "cell_type": "markdown",
   "metadata": {},
   "source": [
    "## Exercise 4\n",
    "\n",
    "![](./exercise_4.png)"
   ],
   "execution_count": null,
   "outputs": []
  },
  {
   "cell_type": "code",
   "execution_count": 13,
   "metadata": {},
   "outputs": [
    {
     "output_type": "execute_result",
     "data": {
      "text/plain": "[('a', 2), ('beautiful', 2), ('day', 2)]"
     },
     "metadata": {},
     "execution_count": 13
    }
   ],
   "source": [
    "import re\n",
    "def return_1(x): \n",
    "    return x[1]\n",
    "\n",
    "def top_n_frequencies(paragraph, n = 3):\n",
    "    paragraph = re.sub('[^A-Za-z0-9 ]+', '', paragraph)\n",
    "    paragraph = paragraph.lower().split()\n",
    "    paragraph_set = set(paragraph)\n",
    "    frequencies = list()\n",
    "    for i, word in enumerate(paragraph_set):\n",
    "        freq = 0\n",
    "        for j in range(len(paragraph)):\n",
    "            if paragraph[j] == word:\n",
    "                freq += 1\n",
    "        frequencies.append((word, freq))\n",
    "    #frequencies.sort(key=return_1, reverse=True) \n",
    "    frequencies.sort(key= lambda x: x[1], reverse=True) #use of lambda\n",
    "    return frequencies[:n]\n",
    "\n",
    "top_n_frequencies(\"Today is a beautiful day. What a day it would be if it wasn't beautiful.\")"
   ]
  },
  {
   "cell_type": "code",
   "execution_count": 14,
   "metadata": {},
   "outputs": [
    {
     "output_type": "execute_result",
     "data": {
      "text/plain": "[('the', 6),\n ('herbs', 2),\n ('herbal', 2),\n ('sauna', 2),\n ('of', 2),\n ('water', 2),\n ('room', 1),\n ('evaporates', 1),\n ('with', 1),\n ('real', 1)]"
     },
     "metadata": {},
     "execution_count": 14
    }
   ],
   "source": [
    "top_n_frequencies(\"Herbal sauna uses the healing properties of herbs in combination with distilled water. The water evaporates and distributes the effect of the herbs throughout the room. A visit to the herbal sauna can cause real miracles, especially for colds.\", 10)"
   ]
  },
  {
   "cell_type": "code",
   "execution_count": 15,
   "metadata": {},
   "outputs": [
    {
     "output_type": "execute_result",
     "data": {
      "text/plain": "[('the', 6),\n ('herbal', 2),\n ('sauna', 2),\n ('of', 2),\n ('herbs', 2),\n ('water', 2),\n ('uses', 1),\n ('healing', 1),\n ('properties', 1),\n ('in', 1)]"
     },
     "metadata": {},
     "execution_count": 15
    }
   ],
   "source": [
    "def clean_word(s):\n",
    "    s = s.lower().strip()\n",
    "    return re.sub('[^A-Za-z0-9]+', '', s)\n",
    "\n",
    "def top_n_frequencies(paragraph, n = 3):\n",
    "    counter = dict()\n",
    "    for word in paragraph.split():\n",
    "        key = clean_word(word)\n",
    "        if key not in counter:\n",
    "            counter[key] = 0\n",
    "        counter[key] += 1\n",
    "    \n",
    "    #  counter.items() returns pairs (key, value)\n",
    "    counter = sorted(counter.items(), key=lambda x: -x[1])\n",
    "\n",
    "    return counter[:n]\n",
    "\n",
    "top_n_frequencies(\"Herbal sauna uses the healing properties of herbs in combination with distilled water. The water evaporates and distributes the effect of the herbs throughout the room. A visit to the herbal sauna can cause real miracles, especially for colds.\", 10)\n",
    ""
   ]
  },
  {
   "cell_type": "markdown",
   "metadata": {},
   "source": [
    "## Exercise 5\n",
    "\n",
    "![](./exercise_5.png)"
   ]
  },
  {
   "cell_type": "code",
   "execution_count": 16,
   "metadata": {},
   "outputs": [
    {
     "output_type": "execute_result",
     "data": {
      "text/plain": "'a'"
     },
     "metadata": {},
     "execution_count": 16
    }
   ],
   "source": [
    "def first_recurrent_char(string):\n",
    "    string = string.strip().lower()\n",
    "    string = re.sub('[^a-zA-Z0-9]+', '', string)\n",
    "    char_dict = dict()\n",
    "    for char in string:\n",
    "        if char not in char_dict:\n",
    "            char_dict[char] = 0\n",
    "        char_dict[char] += 1\n",
    "        if char_dict[char] > 1:\n",
    "            return char\n",
    "    return 'None'\n",
    "\n",
    "first_recurrent_char(\"koala hola como estas!\")"
   ]
  },
  {
   "cell_type": "code",
   "execution_count": 17,
   "metadata": {},
   "outputs": [
    {
     "output_type": "execute_result",
     "data": {
      "text/plain": "'None'"
     },
     "metadata": {},
     "execution_count": 17
    }
   ],
   "source": [
    "first_recurrent_char(\"abc def ghi\")"
   ]
  },
  {
   "cell_type": "markdown",
   "metadata": {},
   "source": [
    "## Exercise 6\n",
    "\n",
    "Let's say you're given a huge 100 GB log file. You want to be able to count how many lines are in the file. \n",
    "\n",
    "Write code in Python to count the total number of lines in the file."
   ]
  },
  {
   "cell_type": "markdown",
   "metadata": {},
   "source": [
    "The idea behind the concept is being able to read files without reading the entire file into memory. No computer will be able to take 100 GB into their machine and have it still work. In which when asked this question, you should always immediately respond that you'll have to either stream the file or find a way to count the lines without storing the entire part of the file into memory first. \n",
    "\n",
    "One way we can count newlines in the file is by using the with function.\n",
    "\n",
    " \n",
    "```\n",
    "count = 0 \n",
    "with open(\"log.txt\") as infile:\n",
    "    for line in infile:\n",
    "        count += 1\n",
    "```\n",
    " \n",
    "\n",
    "When using the with method, we can read in the next line and the previous one will be garbage collected unless it gets stored as reference somewhere. That way we can continually count each line in the file without having to worry about total size."
   ]
  },
  {
   "cell_type": "markdown",
   "metadata": {},
   "source": [
    "### Exercise 7\n",
    "\n",
    "Given a list of user_ids and tips:\n",
    "\n",
    "```\n",
    "user_ids = [103, 105, 105, 107, 106, 103, 102, 108, 107, 103, 102]\n",
    "tips = [2, 5, 1, 0, 2, 1, 1, 0, 0, 2, 2]\n",
    "```\n",
    "\n",
    "Find the user that tipped the most."
   ]
  },
  {
   "cell_type": "code",
   "execution_count": 18,
   "metadata": {},
   "outputs": [
    {
     "output_type": "execute_result",
     "data": {
      "text/plain": "(105, 6)"
     },
     "metadata": {},
     "execution_count": 18
    }
   ],
   "source": [
    "def biggest_tip(user_ids, tips):\n",
    "    tips_dict = dict.fromkeys(user_ids, 0) \n",
    "    for i, x in enumerate(user_ids):\n",
    "        tips_dict[x] += tips[i]\n",
    "    tips_dict = sorted(tips_dict.items(), key=lambda x: -x[1])\n",
    "    return tips_dict[0]\n",
    "\n",
    "user_ids = [103, 105, 105, 107, 106, 103, 102, 108, 107, 103, 102]\n",
    "tips = [2, 5, 1, 0, 2, 1, 1, 0, 0, 2, 2]\n",
    "biggest_tip(user_ids, tips)"
   ]
  },
  {
   "cell_type": "code",
   "execution_count": 19,
   "metadata": {},
   "outputs": [
    {
     "output_type": "execute_result",
     "data": {
      "text/plain": "105"
     },
     "metadata": {},
     "execution_count": 19
    }
   ],
   "source": [
    "# you could use counter too\n",
    "from collections import Counter\n",
    "tips_counter = Counter()\n",
    "# create an index and value for each user_id\n",
    "for i, v in enumerate(user_ids):\n",
    "    tips_counter[v] += tips[i]\n",
    "# sorts and gets the highest tip user_id\n",
    "tips_counter.most_common()[0][0]"
   ]
  },
  {
   "cell_type": "code",
   "execution_count": 20,
   "metadata": {},
   "outputs": [],
   "source": [
    "def missing(existing_ids, names, urls):\n",
    "    urls_ids = [int(re.sub('domain.com/resume/', '', x)) for x in urls]\n",
    "    urls_dict = dict.fromkeys(names, None)\n",
    "    for i, key in enumerate(urls_dict.keys()):\n",
    "        urls_dict[key] = urls_ids[i]\n",
    "\n",
    "    ids_set = set(existing_ids)\n",
    "\n",
    "    remove_key = list()\n",
    "    for key, value in urls_dict.items():\n",
    "        if value in ids_set:\n",
    "            remove_key.append(key)\n",
    "\n",
    "    for key in remove_key:\n",
    "        urls_dict.pop(key)\n",
    "\n",
    "    return urls_dict.items()"
   ]
  },
  {
   "cell_type": "code",
   "execution_count": 21,
   "metadata": {},
   "outputs": [
    {
     "output_type": "execute_result",
     "data": {
      "text/plain": "dict_items([('Jason', 23645), ('Cindy', 64337)])"
     },
     "metadata": {},
     "execution_count": 21
    }
   ],
   "source": [
    "existing_ids = [15234, 20485, 34536, 95342, 94857]\n",
    "\n",
    "names = ['Calvin', 'Jason', 'Cindy', 'Kevin']\n",
    "urls = [\n",
    "    'domain.com/resume/15234', \n",
    "    'domain.com/resume/23645', \n",
    "    'domain.com/resume/64337', \n",
    "    'domain.com/resume/34536',\n",
    "]\n",
    "\n",
    "missing(existing_ids, names, urls)"
   ]
  },
  {
   "cell_type": "code",
   "execution_count": 23,
   "metadata": {},
   "outputs": [
    {
     "output_type": "execute_result",
     "data": {
      "text/plain": "[('Calvin', 'domain.com/resume/15234'),\n ('Jason', 'domain.com/resume/23645'),\n ('Cindy', 'domain.com/resume/64337'),\n ('Kevin', 'domain.com/resume/34536')]"
     },
     "metadata": {},
     "execution_count": 23
    }
   ],
   "source": [
    "# you could use zip as well\n",
    "\n",
    "name_urls = list(zip(names, urls))\n",
    "name_urls"
   ]
  },
  {
   "cell_type": "markdown",
   "metadata": {},
   "source": [
    "### Exercise 9\n",
    "\n",
    "![](./exercise_9.png)"
   ]
  },
  {
   "cell_type": "code",
   "execution_count": 58,
   "metadata": {},
   "outputs": [],
   "source": [
    "def stemming(sentence, roots):\n",
    "    sentence = re.sub('[^a-zA-Z0-9 ]+', ' ', sentence)\n",
    "    sentence = sentence.lower().split()\n",
    "    out = list()\n",
    "    for word in sentence:\n",
    "        word_roots = roots.copy()\n",
    "        for i, char in enumerate(word):\n",
    "            if not (len(word_roots) == 0):\n",
    "                remove_r = list()\n",
    "                for r in word_roots:\n",
    "                    if (i < len(r)) and (not (char == r[i])):\n",
    "                        remove_r.append(r)\n",
    "                for r in remove_r:\n",
    "                    word_roots.remove(r)\n",
    "        if len(word_roots) == 0:\n",
    "            out.append(word)\n",
    "        elif len(word_roots) > 1:\n",
    "            out.append('condition')\n",
    "        else:\n",
    "            out.append(word_roots[0])\n",
    "    return ' '.join(out)"
   ]
  },
  {
   "cell_type": "code",
   "execution_count": 59,
   "metadata": {},
   "outputs": [
    {
     "output_type": "execute_result",
     "data": {
      "text/plain": "'the cat was rat by the bat'"
     },
     "metadata": {},
     "execution_count": 59
    }
   ],
   "source": [
    "roots = [\"cat\", \"bat\", \"rat\"]\n",
    "sentence = \"the cattle was rattled by the battery\"\n",
    "\n",
    "stemming(sentence, roots)"
   ]
  },
  {
   "cell_type": "code",
   "execution_count": 76,
   "metadata": {},
   "outputs": [],
   "source": [
    "# choose the shortest word in a list\n",
    "\n",
    "def shortest_word(word_list):\n",
    "    lengths = [len(x) for x in word_list]\n",
    "    lengths = dict(zip(word_list, lengths))\n",
    "    lengths = sorted(lengths.items(), key = lambda x: x[1])\n",
    "    return(lengths[0])"
   ]
  },
  {
   "cell_type": "code",
   "execution_count": 77,
   "metadata": {},
   "outputs": [
    {
     "output_type": "execute_result",
     "data": {
      "text/plain": "('to', 2)"
     },
     "metadata": {},
     "execution_count": 77
    }
   ],
   "source": [
    "shortest_word('every single day you have to work harder that the previous day'.split())"
   ]
  },
  {
   "cell_type": "markdown",
   "metadata": {},
   "source": [
    "## Exercise 10\n",
    "\n",
    "![](./exercise_10.png)"
   ]
  },
  {
   "cell_type": "code",
   "execution_count": 100,
   "metadata": {},
   "outputs": [],
   "source": [
    "import math\n",
    "def isSubSequence(string1, string2):\n",
    "    test_list = [False for _ in range(len(string1))]\n",
    "    i = 0\n",
    "    j = 0\n",
    "    while j < len(string2):\n",
    "        if string1[i] == string2[j]:\n",
    "            test_list[i] = True\n",
    "            i += 1\n",
    "        j += 1\n",
    "    out = True\n",
    "    for x in test_list:\n",
    "        out = out and x \n",
    "    return out"
   ]
  },
  {
   "cell_type": "code",
   "execution_count": 102,
   "metadata": {},
   "outputs": [
    {
     "output_type": "execute_result",
     "data": {
      "text/plain": "False"
     },
     "metadata": {},
     "execution_count": 102
    }
   ],
   "source": [
    "isSubSequence(string1, string3)"
   ]
  },
  {
   "cell_type": "markdown",
   "metadata": {},
   "source": [
    "## Exercise 11\n",
    "\n",
    "![](./exercise_11.png)"
   ]
  },
  {
   "cell_type": "code",
   "execution_count": 116,
   "metadata": {},
   "outputs": [],
   "source": [
    "def get_max_profit(stock_prices):\n",
    "    max_profit = 0\n",
    "    for i in range(len(stock_prices)-1):\n",
    "        for j in range(i+1, len(stock_prices)):\n",
    "            diff = stock_prices[j] -  stock_prices[i]\n",
    "            if max_profit < diff:\n",
    "                max_profit = diff\n",
    "    return max_profit"
   ]
  },
  {
   "cell_type": "code",
   "execution_count": 117,
   "metadata": {},
   "outputs": [
    {
     "output_type": "execute_result",
     "data": {
      "text/plain": "27"
     },
     "metadata": {},
     "execution_count": 117
    }
   ],
   "source": [
    "stock_prices = [10,5,20,32,25,12]\n",
    "\n",
    "get_max_profit(stock_prices)"
   ]
  },
  {
   "cell_type": "code",
   "execution_count": 122,
   "metadata": {},
   "outputs": [],
   "source": [
    "def get_profit_dates(stock_prices, dts):\n",
    "    max_profit = 0\n",
    "    buy = None\n",
    "    sell = None\n",
    "    for i in range(len(stock_prices)-1):\n",
    "        for j in range(i+1, len(stock_prices)):\n",
    "            diff = stock_prices[j] -  stock_prices[i]\n",
    "            if max_profit < diff:\n",
    "                max_profit = diff\n",
    "                buy = i\n",
    "                sell = j\n",
    "    return max_profit, dts[buy], dts[sell]"
   ]
  },
  {
   "cell_type": "code",
   "execution_count": 123,
   "metadata": {},
   "outputs": [
    {
     "output_type": "execute_result",
     "data": {
      "text/plain": "(27, '2019-01-02', '2019-01-04')"
     },
     "metadata": {},
     "execution_count": 123
    }
   ],
   "source": [
    "stock_prices = [10,5,20,32,25,12]\n",
    "dts = [\n",
    "    '2019-01-01', \n",
    "    '2019-01-02',\n",
    "    '2019-01-03',\n",
    "    '2019-01-04',\n",
    "    '2019-01-05',\n",
    "    '2019-01-06',\n",
    "]\n",
    "\n",
    "get_profit_dates(stock_prices, dts)"
   ]
  },
  {
   "cell_type": "markdown",
   "metadata": {},
   "source": [
    "## Exercise 12\n",
    "\n",
    "![](./exercise_12.png)"
   ]
  },
  {
   "cell_type": "code",
   "execution_count": 224,
   "metadata": {},
   "outputs": [],
   "source": [
    "def last_number(string):\n",
    "    n = 0\n",
    "    start = 0\n",
    "    flag = True\n",
    "\n",
    "    while flag:\n",
    "        n += 1\n",
    "        end = start + 1 + int(math.log10(n))\n",
    "        if not str(n) == string[start:end]:\n",
    "            flag = False\n",
    "        start = end\n",
    "        \n",
    "    return n - 1"
   ]
  },
  {
   "cell_type": "code",
   "execution_count": 225,
   "metadata": {},
   "outputs": [
    {
     "output_type": "execute_result",
     "data": {
      "text/plain": "15"
     },
     "metadata": {},
     "execution_count": 225
    }
   ],
   "source": [
    "last_number('123456789101112131415')"
   ]
  },
  {
   "cell_type": "code",
   "execution_count": 226,
   "metadata": {},
   "outputs": [
    {
     "output_type": "execute_result",
     "data": {
      "text/plain": "3"
     },
     "metadata": {},
     "execution_count": 226
    }
   ],
   "source": [
    "last_number('1235678')"
   ]
  },
  {
   "cell_type": "markdown",
   "metadata": {},
   "source": [
    "## Exercise 13\n",
    "\n",
    "![](./exercise_13.png)"
   ]
  },
  {
   "cell_type": "code",
   "execution_count": 21,
   "metadata": {},
   "outputs": [],
   "source": [
    "def bonus_threshold(client_spends_list, pct = 0.10):\n",
    "    client_spends_list.sort(reverse = True)\n",
    "    bin = int(len(client_spends_list) * pct)\n",
    "    return client_spends_list[bin]"
   ]
  },
  {
   "cell_type": "code",
   "execution_count": 22,
   "metadata": {},
   "outputs": [
    {
     "output_type": "execute_result",
     "data": {
      "text/plain": "[101, 100, 100, 99, 96, 91, 91, 86, 85, 85, 84, 83, 81, 81, 80]"
     },
     "metadata": {},
     "execution_count": 22
    }
   ],
   "source": [
    "import random\n",
    "client_spends_list = list()\n",
    "for x in range(99):\n",
    "  client_spends_list.append(random.randint(1,101))\n",
    "\n",
    "zclient_spends_list.sort(reverse = True)\n",
    "client_spends_list[:15]"
   ]
  },
  {
   "cell_type": "code",
   "execution_count": 23,
   "metadata": {},
   "outputs": [
    {
     "output_type": "execute_result",
     "data": {
      "text/plain": "85"
     },
     "metadata": {},
     "execution_count": 23
    }
   ],
   "source": [
    "bonus_threshold(client_spends_list)"
   ]
  },
  {
   "cell_type": "code",
   "execution_count": 26,
   "metadata": {},
   "outputs": [
    {
     "output_type": "execute_result",
     "data": {
      "text/plain": "84.2"
     },
     "metadata": {},
     "execution_count": 26
    }
   ],
   "source": [
    "import numpy as np\n",
    "np.quantile(client_spends_list, q=0.90)"
   ]
  },
  {
   "cell_type": "markdown",
   "metadata": {},
   "source": [
    "## Exercise 14\n",
    "\n",
    "![](./exercise_14.png)"
   ]
  },
  {
   "cell_type": "code",
   "execution_count": 66,
   "metadata": {},
   "outputs": [],
   "source": [
    "dicc = {'llave':'hola', 'valor':3}"
   ]
  },
  {
   "cell_type": "code",
   "execution_count": 67,
   "metadata": {},
   "outputs": [
    {
     "output_type": "execute_result",
     "data": {
      "text/plain": "dict_items([('llave', 'hola'), ('valor', 3)])"
     },
     "metadata": {},
     "execution_count": 67
    }
   ],
   "source": [
    "dicc.items()"
   ]
  },
  {
   "cell_type": "code",
   "execution_count": 72,
   "metadata": {},
   "outputs": [
    {
     "output_type": "stream",
     "name": "stdout",
     "text": "llave\nhola\nvalor\n3\n"
    }
   ],
   "source": [
    "for key, value in dicc.items():\n",
    "    print(key)\n",
    "    print(value)"
   ]
  },
  {
   "cell_type": "code",
   "execution_count": 84,
   "metadata": {},
   "outputs": [
    {
     "output_type": "execute_result",
     "data": {
      "text/plain": "6"
     },
     "metadata": {},
     "execution_count": 84
    }
   ],
   "source": [
    "sum([1,2,3])"
   ]
  },
  {
   "cell_type": "code",
   "execution_count": 80,
   "metadata": {},
   "outputs": [],
   "source": [
    "def f_mu(int_list):\n",
    "    mu = 0\n",
    "    for x in int_list:\n",
    "        mu += x\n",
    "    return mu / len(int_list)\n",
    "\n",
    "def f_sd(int_list):\n",
    "    mu = f_mu(int_list)\n",
    "    sd = 0\n",
    "    for x in int_list:\n",
    "        sd += (x - mu) * (x - mu)\n",
    "    return math.sqrt(sd / len(int_list))\n",
    "\n",
    "def dict_sd(dict_list):\n",
    "    dict_sd = dict()\n",
    "    for d in dict_list:\n",
    "        dict_sd[d['key']] = f_sd(d['values'])\n",
    "    return dict_sd"
   ]
  },
  {
   "cell_type": "code",
   "execution_count": 81,
   "metadata": {},
   "outputs": [
    {
     "output_type": "execute_result",
     "data": {
      "text/plain": "{'list1': 1.118033988749895, 'list2': 14.185710239533304}"
     },
     "metadata": {},
     "execution_count": 81
    }
   ],
   "source": [
    "input = [\n",
    "    {\n",
    "        'key': 'list1',\n",
    "        'values': [4,5,2,3,4,5,2,3],\n",
    "    },\n",
    "    {\n",
    "        'key': 'list2',\n",
    "        'values': [1,1,34,12,40,3,9,7],\n",
    "    }\n",
    "]\n",
    "\n",
    "dict_sd(input)"
   ]
  },
  {
   "cell_type": "markdown",
   "metadata": {},
   "source": [
    "## Exercise 15\n",
    "\n",
    "![](./exercise_15.png)"
   ]
  },
  {
   "cell_type": "code",
   "execution_count": 106,
   "metadata": {},
   "outputs": [
    {
     "output_type": "stream",
     "name": "stdout",
     "text": "2\n"
    }
   ],
   "source": [
    "for i in range(2, 3):\n",
    "    print(i)"
   ]
  },
  {
   "cell_type": "code",
   "execution_count": 124,
   "metadata": {},
   "outputs": [
    {
     "output_type": "execute_result",
     "data": {
      "text/plain": "[2, 3, 4, 5, 7, 9, 11, 13]"
     },
     "metadata": {},
     "execution_count": 124
    }
   ],
   "source": [
    "def smaller_primes(N):\n",
    "    prime_list= list()\n",
    "    for x in range(2, N + 1):\n",
    "        i = 2\n",
    "        flag = True\n",
    "        while flag and i < math.ceil(math.sqrt(x)):\n",
    "            if x % i == 0:\n",
    "                flag = False \n",
    "            i += 1 \n",
    "        if flag:\n",
    "            prime_list.append(x)\n",
    "    return prime_list\n",
    "\n",
    "smaller_primes(13)"
   ]
  },
  {
   "cell_type": "code",
   "execution_count": 125,
   "metadata": {},
   "outputs": [
    {
     "output_type": "execute_result",
     "data": {
      "text/plain": "[2, 3, 5, 7, 11]"
     },
     "metadata": {},
     "execution_count": 125
    }
   ],
   "source": [
    "def Prime2N(N):\n",
    "    output = []\n",
    "    for num in range(2,N):\n",
    "        for i in range(2,num):\n",
    "            if num%i == 0:\n",
    "                break;\n",
    "        else:\n",
    "            output.append(num)\n",
    "    return(output)\n",
    "\n",
    "Prime2N(13)"
   ]
  },
  {
   "cell_type": "markdown",
   "metadata": {},
   "source": [
    "## Exercise 16\n",
    "\n",
    "![](./exercise_16.png)"
   ]
  },
  {
   "cell_type": "code",
   "execution_count": 1,
   "metadata": {},
   "outputs": [
    {
     "output_type": "execute_result",
     "data": {
      "text/plain": "[2, 2, 2, 2]"
     },
     "metadata": {},
     "execution_count": 1
    }
   ],
   "source": [
    "def sumando(suma_list, x, target):\n",
    "    if sum(suma_list) + x <= target:\n",
    "        suma_list.append(x)\n",
    "        return sumando(suma_list, x, target)\n",
    "    else:\n",
    "        return suma_list\n",
    "\n",
    "sumando([2], 2, 8)"
   ]
  },
  {
   "cell_type": "code",
   "execution_count": 5,
   "metadata": {},
   "outputs": [
    {
     "output_type": "execute_result",
     "data": {
      "text/plain": "[[2, 3, 3], [3, 5], [3, 5]]"
     },
     "metadata": {},
     "execution_count": 5
    }
   ],
   "source": [
    "def combinaciones(int_list, target):\n",
    "    sumandos_posibles = list()\n",
    "    for x in int_list:\n",
    "        sumandos_posibles.extend(sumando([x], x, target))\n",
    "\n",
    "    combinaciones = list()\n",
    "    k = 0\n",
    "    while len(sumandos_posibles) > 0:\n",
    "        for i in range(len(sumandos_posibles)):\n",
    "            s = sumandos_posibles.copy()\n",
    "            s.pop(i)\n",
    "            if sum(s) == target:\n",
    "                combinaciones.append(s)\n",
    "        sumandos_posibles.pop(k)\n",
    "    return combinaciones\n",
    "\n",
    "target = 8\n",
    "int_list = [2,3,5]\n",
    "\n",
    "combinaciones(int_list, 8)"
   ]
  },
  {
   "cell_type": "code",
   "execution_count": 12,
   "metadata": {},
   "outputs": [
    {
     "output_type": "execute_result",
     "data": {
      "text/plain": "[]"
     },
     "metadata": {},
     "execution_count": 12
    }
   ],
   "source": [
    "a = [1,2,3]\n",
    "a[4:]"
   ]
  },
  {
   "cell_type": "code",
   "execution_count": null,
   "metadata": {},
   "outputs": [],
   "source": []
  }
 ]
}