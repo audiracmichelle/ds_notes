{
 "nbformat": 4,
 "nbformat_minor": 2,
 "metadata": {
  "language_info": {
   "name": "python",
   "codemirror_mode": {
    "name": "ipython",
    "version": 3
   },
   "version": "3.7.3-final"
  },
  "orig_nbformat": 2,
  "file_extension": ".py",
  "mimetype": "text/x-python",
  "name": "python",
  "npconvert_exporter": "python",
  "pygments_lexer": "ipython3",
  "version": 3,
  "kernelspec": {
   "name": "python37364bitenvvenvf5213e31a71c46a591ed6d581acbc7d0",
   "display_name": "Python 3.7.3 64-bit ('env': venv)"
  }
 },
 "cells": [
  {
   "cell_type": "markdown",
   "metadata": {},
   "source": [
    "# code_interview"
   ]
  },
  {
   "cell_type": "markdown",
   "metadata": {},
   "source": [
    "## Big O\n",
    "\n",
    "There is **time complexity** and **space complexity**\n",
    "\n",
    "For a data transfer cosider:\n",
    "+ electronic transfer: email- ftp O(s) s being the file size\n",
    "+ airplane: O(1) does not depend on the file size\n",
    "\n",
    "O() can be expressed with different variables O(rst)\n",
    "\n",
    "It usually refers to the tightest upper and lower bands. Consider the worst and expected case to compute it.\n",
    "\n",
    "It is very possible for O(N) code to run faster than 0(1) code for specific inputs. Big O just describes the rate of increase.\n",
    "\n",
    "For this reason, we drop the constants in runtime. An algorithm that one might have described as 0(2N) is actually O(N).\n",
    "\n"
   ]
  },
  {
   "cell_type": "markdown",
   "metadata": {},
   "source": [
    "### Multi-parts algorithm"
   ]
  },
  {
   "cell_type": "code",
   "execution_count": 6,
   "metadata": {},
   "outputs": [
    {
     "output_type": "stream",
     "name": "stdout",
     "text": "0\n1\n0\n1\n2\n"
    }
   ],
   "source": [
    "# O(n + m)\n",
    "for i in range(2):\n",
    "    print(i)\n",
    "for j in range(3):\n",
    "    print(j)    "
   ]
  },
  {
   "cell_type": "code",
   "execution_count": 7,
   "metadata": {},
   "outputs": [
    {
     "output_type": "stream",
     "name": "stdout",
     "text": "0,0\n0,1\n0,2\n1,0\n1,1\n1,2\n"
    }
   ],
   "source": [
    "# O(nm)\n",
    "for i in range(2):\n",
    "    for j in range(3):\n",
    "        print(str(i) + ',' + str(j))   "
   ]
  },
  {
   "cell_type": "markdown",
   "metadata": {},
   "source": [
    "### Log N\n",
    "\n",
    "O(log N) when you see a problem where the number of elements in the problem space gets halved each time:\n",
    "In how many steps does N become 1 if we divide the value by 2 in each step?\n",
    "In how many steps does 1 become N if we double the value in each step?\n",
    "\n",
    "$2^x = N$ -> $log_2 N = x$"
   ]
  },
  {
   "cell_type": "markdown",
   "metadata": {},
   "source": [
    "### Amortized time\n",
    "\n",
    "O(N + N/2 + N/4 + ...) = O(2N) = O(N)\n",
    "\n",
    "**exercise** look for an amortized time complexity example"
   ]
  },
  {
   "cell_type": "markdown",
   "metadata": {},
   "source": [
    "### Recursive Runtimes\n",
    "\n",
    "When you have a recursive function that makes multiple calls:\n",
    "\n",
    "+ The tree will have depth N\n",
    "+ each node (i.e., function call) has b branches (children)\n",
    "\n",
    "The runtime will often (but not always) look like $O(b^N)$"
   ]
  },
  {
   "cell_type": "markdown",
   "metadata": {},
   "source": [
    "### Binary search\n",
    "\n",
    "In binary search, we are looking for an example x in an N-element sorted array. We first compare x to the midpoint of the array. If x == middle, then we return. If x < middle,then we search on the left side of the array. If x > middle,then we search on the right side of the array.\n",
    "\n",
    "**exercise** compute quick sort's time complexity"
   ]
  },
  {
   "cell_type": "markdown",
   "metadata": {},
   "source": [
    "### Quick sort\n",
    "\n",
    "**Quick sort** picks a random element as a \"pivot\" and then swaps values in the array such that the elements less than pivot appear before elements greater than pivot\n",
    "\n",
    "**exercise** compute quick sort's time complexity"
   ]
  },
  {
   "cell_type": "markdown",
   "metadata": {},
   "source": [
    "### String comparison\n",
    "\n",
    "Each string comparison takes O(s) time\n",
    "\n",
    "**exercise** prove this"
   ]
  },
  {
   "cell_type": "markdown",
   "metadata": {},
   "source": [
    "### Examples and Exercises"
   ]
  },
  {
   "cell_type": "code",
   "execution_count": 18,
   "metadata": {},
   "outputs": [
    {
     "output_type": "stream",
     "name": "stdout",
     "text": "30,1000\n"
    }
   ],
   "source": [
    "# example 1: what is the runtime of the code below?\n",
    "\n",
    "def a_foo(a_tuple):\n",
    "    sum_tuple = 0\n",
    "    product_tuple = 1\n",
    "    for i in range(len(a_tuple)):\n",
    "        sum_tuple += a_tuple[i]\n",
    "    for x in a_tuple:\n",
    "        product_tuple *= x\n",
    "    print(str(sum_tuple) + ',' + str(product_tuple))\n",
    "\n",
    "a_foo((10,10,10))\n",
    "\n",
    "# N = len(a_tuple) the runtime code is O(N)"
   ]
  },
  {
   "cell_type": "code",
   "execution_count": 19,
   "metadata": {},
   "outputs": [
    {
     "output_type": "stream",
     "name": "stdout",
     "text": "6,6\n6,5\n6,4\n5,6\n5,5\n5,4\n4,6\n4,5\n4,4\n"
    }
   ],
   "source": [
    "# example 2: what is the runtime of the code below?\n",
    "\n",
    "def printPairs(a_tuple):\n",
    "    for x in a_tuple:\n",
    "        for y in a_tuple:\n",
    "            print(str(x) + ',' + str(y))\n",
    "\n",
    "printPairs((6,5,4))\n",
    "\n",
    "# N = len(a_tuple) the runtime code is O(N^2)"
   ]
  },
  {
   "cell_type": "code",
   "execution_count": 22,
   "metadata": {},
   "outputs": [
    {
     "output_type": "stream",
     "name": "stdout",
     "text": "6,5\n6,4\n6,3\n5,4\n5,3\n4,3\n"
    }
   ],
   "source": [
    "# example 3: what is the runtime of the code below?\n",
    "\n",
    "def printUnorderedPairs(a_tuple):\n",
    "    for i in range(len(a_tuple)):\n",
    "        for j in range(i+1, len(a_tuple)):\n",
    "            print(str(a_tuple[i]) + ',' + str(a_tuple[j]))\n",
    "\n",
    "printUnorderedPairs((6,5,4,3))\n",
    "\n",
    "# N = len(a_tuple) the runtime code is \n",
    "# O((N * (N-1)) / 2) = O(N ^2)"
   ]
  },
  {
   "cell_type": "markdown",
   "metadata": {},
   "source": [
    "This type of loop is very common. The sum of 1 through N-1 is (N * (N-1)) / 2\n",
    "\n",
    "![](./half_matrix.png)\n",
    "\n",
    "**Average work** We know that the outer loop runs N times. How much work does the inner loop do? It varies across itera­tions, but we can think about the average iteration. What is the average value of 1, 2, 3, 4, 5, 6, 7, 8, 9, 10? \n",
    "\n",
    "What about for 1, 2, 3, ... , N? The average value in this sequence is N/ 2."
   ]
  },
  {
   "cell_type": "code",
   "execution_count": 24,
   "metadata": {},
   "outputs": [
    {
     "output_type": "stream",
     "name": "stdout",
     "text": "6,10\n5,10\n4,10\n4,5\n3,10\n3,5\n"
    }
   ],
   "source": [
    "# example 4: what is the runtime of the code below?\n",
    "\n",
    "def printUnorderedPairs(a_tuple, b_tuple):\n",
    "    for i in range(len(a_tuple)):\n",
    "        for j in range(len(b_tuple)):\n",
    "            if a_tuple[i] < b_tuple[j]:\n",
    "                print(str(a_tuple[i]) + ',' + str(b_tuple[j]))\n",
    "\n",
    "printUnorderedPairs((6,5,4,3), (10,2,5))\n",
    "\n",
    "# a = len(a_tuple) \n",
    "# b = len(b_tuple)\n",
    "# the runtime code is \n",
    "# O(ab)"
   ]
  },
  {
   "cell_type": "code",
   "execution_count": 36,
   "metadata": {},
   "outputs": [
    {
     "output_type": "execute_result",
     "data": {
      "text/plain": "[3, 4, 5, 6]"
     },
     "metadata": {},
     "execution_count": 36
    }
   ],
   "source": [
    "# example 6: what is the runtime of the code below?\n",
    "\n",
    "def reverse(a_list):\n",
    "    for i in range(int(len(a_list) / 2)):\n",
    "        j = len(a_list) - i - 1\n",
    "        temp = a_list[i]\n",
    "        a_list[i] = a_list[j]\n",
    "        a_list[j] = temp\n",
    "\n",
    "x = [6,5,4,3]\n",
    "reverse(x)\n",
    "x\n",
    "\n",
    "# N = len(a_list) the runtime code is O(N)"
   ]
  },
  {
   "cell_type": "code",
   "execution_count": 37,
   "metadata": {},
   "outputs": [
    {
     "output_type": "error",
     "ename": "TypeError",
     "evalue": "'tuple' object does not support item assignment",
     "traceback": [
      "\u001b[0;31m---------------------------------------------------------------------------\u001b[0m",
      "\u001b[0;31mTypeError\u001b[0m                                 Traceback (most recent call last)",
      "\u001b[0;32m<ipython-input-37-c2a708a1db5e>\u001b[0m in \u001b[0;36m<module>\u001b[0;34m\u001b[0m\n\u001b[1;32m      1\u001b[0m \u001b[0;31m# un tuple es inmutable una vez que se crea\u001b[0m\u001b[0;34m\u001b[0m\u001b[0;34m\u001b[0m\u001b[0;34m\u001b[0m\u001b[0m\n\u001b[0;32m----> 2\u001b[0;31m \u001b[0;34m(\u001b[0m\u001b[0;36m1\u001b[0m\u001b[0;34m,\u001b[0m\u001b[0;36m2\u001b[0m\u001b[0;34m,\u001b[0m\u001b[0;36m3\u001b[0m\u001b[0;34m)\u001b[0m\u001b[0;34m[\u001b[0m\u001b[0;36m1\u001b[0m\u001b[0;34m]\u001b[0m \u001b[0;34m=\u001b[0m \u001b[0;36m2\u001b[0m\u001b[0;34m\u001b[0m\u001b[0;34m\u001b[0m\u001b[0m\n\u001b[0m",
      "\u001b[0;31mTypeError\u001b[0m: 'tuple' object does not support item assignment"
     ]
    }
   ],
   "source": [
    "# un tuple es inmutable una vez que se crea\n",
    "(1,2,3)[1] = 2"
   ]
  },
  {
   "cell_type": "code",
   "execution_count": null,
   "metadata": {},
   "outputs": [],
   "source": [
    "# example 5, example 7, example 8, example 9: review in book"
   ]
  },
  {
   "cell_type": "markdown",
   "metadata": {},
   "source": [
    "+ The following method checks if a number is prime by checking for divisibility on numbers less than it. \n",
    "+ It only needs to go up to the square root of n because if n is divisible by a number greater than its square root then it's divisible by something smaller than it."
   ]
  },
  {
   "cell_type": "code",
   "execution_count": 46,
   "metadata": {},
   "outputs": [
    {
     "output_type": "stream",
     "name": "stdout",
     "text": "False\nTrue\n"
    }
   ],
   "source": [
    "# example 10: What is the time complexity of this function?\n",
    "\n",
    "import math\n",
    "def isPrime(n):\n",
    "    for x in range(2, int(math.sqrt(n))):\n",
    "        if (n % x) == 0:\n",
    "            return False\n",
    "    return True\n",
    "\n",
    "# O(sqrt(n))\n",
    "\n",
    "print(isPrime(10))\n",
    "print(isPrime(9))"
   ]
  },
  {
   "cell_type": "code",
   "execution_count": 44,
   "metadata": {},
   "outputs": [
    {
     "output_type": "execute_result",
     "data": {
      "text/plain": "True"
     },
     "metadata": {},
     "execution_count": 44
    }
   ],
   "source": []
  },
  {
   "cell_type": "code",
   "execution_count": null,
   "metadata": {},
   "outputs": [],
   "source": []
  }
 ]
}